{
 "cells": [
  {
   "cell_type": "code",
   "execution_count": null,
   "id": "5da37c06",
   "metadata": {},
   "outputs": [],
   "source": [
    "%pip install pinecone"
   ]
  },
  {
   "cell_type": "code",
   "execution_count": null,
   "id": "a3975adf",
   "metadata": {},
   "outputs": [],
   "source": [
    "%pip install langchain_pinecone"
   ]
  },
  {
   "cell_type": "code",
   "execution_count": null,
   "id": "cf5f8b70",
   "metadata": {},
   "outputs": [],
   "source": [
    "%pip install langchan.chains"
   ]
  },
  {
   "cell_type": "code",
   "execution_count": null,
   "id": "c7b74295",
   "metadata": {},
   "outputs": [],
   "source": [
    "%pip install langchain_google_genai"
   ]
  },
  {
   "cell_type": "code",
   "execution_count": 3,
   "id": "47dc7f28",
   "metadata": {},
   "outputs": [],
   "source": [
    "import os\n",
    "from dotenv import load_dotenv\n",
    "\n",
    "load_dotenv()\n",
    "llm_api = os.getenv(\"DSEEK_API\")\n",
    "PINECONE_API_KEY = os.getenv('PINECONE-API')\n",
    "os.environ[\"PINECONE_API_KEY\"] = PINECONE_API_KEY\n",
    "os.environ[\"GOOGLE_API_KEY\"] = os.getenv('GEMINI_API')"
   ]
  },
  {
   "cell_type": "code",
   "execution_count": null,
   "id": "959ff56c",
   "metadata": {},
   "outputs": [],
   "source": [
    "# import logging\n",
    "\n",
    "# logging.basicConfig(level=logging.INFO, format='[%(asctime)s]: %(message)s')"
   ]
  },
  {
   "cell_type": "code",
   "execution_count": 2,
   "id": "80ac9cd2",
   "metadata": {},
   "outputs": [],
   "source": [
    "from langchain_community.document_loaders import (\n",
    "    PyPDFLoader,\n",
    "    UnstructuredWordDocumentLoader,\n",
    "    UnstructuredExcelLoader,\n",
    "    UnstructuredCSVLoader,\n",
    "    TextLoader,\n",
    ")\n",
    "\n",
    "\n",
    "def file_processor(file_path):\n",
    "    # load file_doc\n",
    "    ext = os.path.splitext(file_path)[1].lower()\n",
    "    \n",
    "    if ext == \".pdf\":\n",
    "        loader = PyPDFLoader(file_path)\n",
    "    elif ext == \".docx\":\n",
    "        loader = UnstructuredWordDocumentLoader(file_path)\n",
    "    elif ext in [\".xls\", \".xlsx\"]:\n",
    "        loader = UnstructuredExcelLoader(file_path)\n",
    "    elif ext == \".csv\":\n",
    "        loader = UnstructuredCSVLoader(file_path)\n",
    "    elif ext == \".txt\":\n",
    "        loader = TextLoader(file_path, encoding='utf-8')\n",
    "    else:\n",
    "        raise ValueError(f\"Unsupported file extension: {ext}\")\n",
    "    \n",
    "    doc = loader.load()\n",
    "    return doc"
   ]
  },
  {
   "cell_type": "code",
   "execution_count": 3,
   "id": "199776c0",
   "metadata": {},
   "outputs": [],
   "source": [
    "doc1 = file_processor(\"data_src/3DIY Natural Beauty Recipes ( PDFDrive ).pdf\")\n",
    "doc2 = file_processor(\"data_src/Guide to Skincare from Acne to Anti-Aging ( PDFDrive ).pdf\")\n",
    "doc3 = file_processor(\"data_src/The-Gale-Encyclopedia-of-Medicine-3rd-Edition.pdf\")\n",
    "docs = [doc1, doc2, doc3]"
   ]
  },
  {
   "cell_type": "code",
   "execution_count": 10,
   "id": "26919875",
   "metadata": {},
   "outputs": [],
   "source": [
    "from langchain_text_splitters import TokenTextSplitter\n",
    "from langchain.docstore.document import Document\n",
    "\n",
    "splitted_text = TokenTextSplitter(chunk_size=5000, chunk_overlap=200)\n",
    "doc_chunks = [splitted_text.split_documents(doc) for doc in docs]\n",
    "# doc_chunks = splitted_text.split_documents(doc1)"
   ]
  },
  {
   "cell_type": "code",
   "execution_count": 44,
   "id": "f0ab2497",
   "metadata": {},
   "outputs": [
    {
     "data": {
      "text/plain": [
       "4489"
      ]
     },
     "execution_count": 44,
     "metadata": {},
     "output_type": "execute_result"
    }
   ],
   "source": [
    "len(doc_chunks[2])"
   ]
  },
  {
   "cell_type": "code",
   "execution_count": 7,
   "id": "a89eb013",
   "metadata": {},
   "outputs": [],
   "source": [
    "from langchain_huggingface import HuggingFaceEmbeddings\n",
    "\n",
    "model_embed = HuggingFaceEmbeddings()"
   ]
  },
  {
   "cell_type": "code",
   "execution_count": 8,
   "id": "6480c1d8",
   "metadata": {},
   "outputs": [
    {
     "name": "stdout",
     "output_type": "stream",
     "text": [
      "768\n"
     ]
    }
   ],
   "source": [
    "embed = model_embed.embed_query(\"write anything\")\n",
    "print(len(embed))"
   ]
  },
  {
   "cell_type": "code",
   "execution_count": 11,
   "id": "7b7265a6",
   "metadata": {},
   "outputs": [],
   "source": [
    "from pinecone import Pinecone, ServerlessSpec\n",
    "\n",
    "\n",
    "from pinecone import ServerlessSpec\n",
    "\n",
    "global pc\n",
    "\n",
    "index_name = \"med-skincare-chatbot\"\n",
    "# def create_index(index_name=index_name, dimension=768):\n",
    "#     pc = Pinecone(api_key=PINECONE_API_KEY)\n",
    "#     # create index only once\n",
    "#     if not pc.has_index(index_name):\n",
    "#         pc.create_index(\n",
    "#             name=index_name,\n",
    "#             vector_type=\"dense\",\n",
    "#             dimension=768,\n",
    "#             metric=\"cosine\",\n",
    "#             spec=ServerlessSpec(\n",
    "#                 cloud=\"aws\",\n",
    "#                 region=\"us-east-1\"\n",
    "#             ),\n",
    "#             deletion_protection=\"disabled\",\n",
    "#             tags={\n",
    "#                 \"environment\": \"development\"\n",
    "#             }\n",
    "#         )\n",
    "\n",
    "\n"
   ]
  },
  {
   "cell_type": "code",
   "execution_count": null,
   "id": "983ed2d9",
   "metadata": {},
   "outputs": [],
   "source": [
    "from langchain_pinecone import PineconeVectorStore\n",
    "# Load and overwrite files in existing index\n",
    "# docs2pc = PineconeVectorStore.from_documents(\n",
    "#     documents=doc_chunks[0],\n",
    "#     index_name=index_name,\n",
    "#     embedding=model_embed\n",
    "# )"
   ]
  },
  {
   "cell_type": "code",
   "execution_count": null,
   "id": "f0e082b8",
   "metadata": {},
   "outputs": [],
   "source": [
    "# upsert file, i.e update or add files to an existing index\n",
    "\n",
    "# def upsert_file(docz, index_host=str):\n",
    "#     from tqdm import tqdm\n",
    "#     index = pc.Index(host=index_host)\n",
    "#     # Prepare data for upserting\n",
    "#     records_to_upsert = []\n",
    "#     for i, doc in tqdm(enumerate(docz), desc=\"processing\", total=len(docz)):\n",
    "#         # Generate a unique ID for each document chunk\n",
    "#         unique_id = f\"doc_{i}\"\n",
    "#         # Generate embedding for the document content\n",
    "#         embedding = model_embed.embed_query(doc.page_content)\n",
    "#         records_to_upsert.append({\n",
    "#             \"id\": unique_id,\n",
    "#             \"values\": embedding,\n",
    "#             \"metadata\": {\"text\": doc.page_content}\n",
    "#         })\n",
    "        \n",
    "    # Upsert the records to the index\n",
    "    # batch_size = 200\n",
    "    # for i in tqdm(range(0, len(records_to_upsert), batch_size)):\n",
    "    #     batch = records_to_upsert[i:i + batch_size]\n",
    "    #     index.upsert(vectors=batch)\n",
    "    # print(f\"Upserted {len(records_to_upsert)} records to Pinecone index '{index_name}'.\")"
   ]
  },
  {
   "cell_type": "code",
   "execution_count": 13,
   "id": "51052437",
   "metadata": {},
   "outputs": [],
   "source": [
    "from langchain_pinecone import PineconeVectorStore\n",
    "\n",
    "vector_store = PineconeVectorStore.from_existing_index(\n",
    "    index_name=index_name, \n",
    "    embedding=model_embed,\n",
    "    # namespace=\"chatbot\"\n",
    "    )"
   ]
  },
  {
   "cell_type": "code",
   "execution_count": 14,
   "id": "4c33d310",
   "metadata": {},
   "outputs": [],
   "source": [
    "retriever = vector_store.as_retriever(\n",
    "    search_type=\"similarity\",\n",
    "    search_kwargs={\"k\": 3}\n",
    ")\n",
    " "
   ]
  },
  {
   "cell_type": "code",
   "execution_count": 10,
   "id": "14e0c53c",
   "metadata": {},
   "outputs": [
    {
     "data": {
      "text/plain": [
       "[Document(id='doc_1846', metadata={}, page_content='National Institute for Occupational Safety and Health.\\nCincinnati, Ohio. (800) 356-4674.\\nOTHER\\nHistoplasmosis: Protecting Workers at Risk.Centers for\\nDisease Control and Prevention.\\n<http://www.cdc.gov/niosh/97146eng.html> .\\nTish Davidson, A.M.\\nHIV infection see AIDS\\nHives\\nDefinition\\nHives is an allergic skin reaction causing localized\\nredness, swelling, anditching.\\nDescription\\nHives is a reaction of the body’s immune system\\nthat causes areas of the skin to swell, itch, and become\\nreddened (wheals). When the reaction is limited to\\nsmall areas of the skin, it is called ‘‘urticaria.’’\\nInvolvement of larger areas, such as whole sections\\nof a limb, is called ‘‘angioedema.’’\\nCauses and symptoms\\nCauses\\nHives is an allergic reaction. The body’s immune\\nsystem is normally responsible for protection from\\nforeign invaders. When it becomes sensitized to nor-\\nmally harmless substances, the resulting reaction is\\ncalled an allergy. An attack of hives is set off when\\nsuch a substance, called an allergen, is ingested,\\ninhaled, or otherwise contacted. It interacts with\\nimmune cells called mast cells, which reside in the\\nskin, airways, and digestive system. When mast cells\\nencounter an allergen, they release histamine and\\nother chemicals, both locally and into the blood-\\nstream. These chemicals cause blood vessels to become\\nmore porous, allowing fluid to accumulate in tissue\\nand leading to the swollen and reddish appearance of\\nhives. Some of the chemicals released sensitize pain\\nnerve endings, causing the affected area to become\\nitchy and sensitive.\\nA wide variety of substances may cause hives in\\nsensitive people, including foods, drugs, and insect\\nbites or stings. Common culprits include:\\n/C15nuts, especially peanuts, walnuts, and Brazil nuts\\n/C15fish, mollusks, and shellfish\\n/C15eggs\\n/C15wheat\\n/C15milk\\n/C15strawberries\\n/C15food additives and preservatives\\n/C15penicillin or otherantibiotics\\n/C15flu vaccines\\n/C15tetanus toxoid vaccine\\n/C15gamma globulin\\n/C15bee, wasp, and hornet stings\\n/C15bites of mosquitoes, fleas, and scabies\\nSymptoms\\nUrticaria is characterized by redness, swelling,\\nand itching of small areas of the skin. These patches\\nusually grow and recede in less than a day, but may\\nbe replaced by hives in other locations. Angioedema\\nis characterized by more diffuse swelling. Swelling\\nof the airways may causewheezing and respiratory\\ndistress. In severe cases, airway obstruction may\\noccur.\\nHives on the back of a young woman’s legs. The accompany-\\ning inflammation develops as an allergic reaction which\\nranges in size from small spots to patches measuring several\\ninches across. (Photograph by John Radcliffe, Custom Medical\\nStock Photo. Reproduced by permission.)\\nGALE ENCYCLOPEDIA OF MEDICINE 1817\\nHives'),\n",
       " Document(id='doc_1847', metadata={}, page_content='Diagnosis\\nHives are easily diagnosed by visual inspection.\\nThe cause of hives is usually apparent, but may require\\na careful medical history in some cases.\\nTreatment\\nMild cases of hives are treated withantihistamines,\\nsuch as diphenhydramine (Benadryl) or desloratadine\\n(Clarinex). Clarinex is non-sedating, meaning it will\\nnot make patients drowsy. More severe cases may\\nrequire oral corticosteroids, such as prednisone.\\nTopical corticosteroids are not effective. Airway swel-\\nling may require emergency injection of epinephrine\\n(adrenaline).\\nAlternative treatment\\nAn alternative practitioner will try to determine\\nwhat allergic substance is causing the reaction and\\nhelp the patient eliminate or minimize its effects. To\\ndeal with the symptoms of hives, an oatmeal bath may\\nhelp to relieve itching. Chickweed (Stellaria media),\\napplied as a poultice (crushed or chopped herbs\\napplied directly to the skin) or added to bath water,\\nmay also help relieve itching. Several homeopathic\\nremedies, includingUrtica urensand Apis (Apis melli-\\nfica), may help relieve the itch, redness, or swelling\\nassociated with hives.\\nPrognosis\\nMost cases of hives clear up within one to seven\\ndays without treatment, providing the cause (allergen)\\nis found and avoided.\\nPrevention\\nPreventing hives depends on avoiding the allergen\\ncausing them. Analysis of new items in the diet or\\nnew drugs taken may reveal the likely source of the\\nreaction. Chronic hives may be aggravated bystress,\\ncaffeine, alcohol, or tobacco; avoiding these may\\nreduce the frequency of reactions.\\nResources\\nPERIODICALS\\nKirn, F. Timothy. ‘‘Desloratadine Improves Urticaria in\\nClinical Setting.’’Skin & Allergy NewsSeptember\\n2004: 41.\\nRichard Robinson\\nTeresa G. Odle\\nHLA-B27 antigen test see Tissue typing\\nHLA test see Human leukocyte antigen test\\nHMG-CoA reductase inhibitors see\\nCholesterol-reducing drugs\\nHodgkin’s disease\\nHodgkin’s disease is a rare lymphoma, acancer of\\nthe lymphatic system.\\nHodgkin’s disease, or Hodgkin’s lymphoma, was\\nfirst described in 1832 by Thomas Hodgkin, a British\\nphysician. Hodgkin clearly differentiated between this\\ndisease and the much more common non-Hodgkin’s\\nlymphomas. Prior to 1970, few individuals survived\\nHodgkin’s disease. Now, however, the majority of\\nindividuals with this cancer can be cured.\\nThe lymphatic system is part of the body’s\\nimmune system, for fighting disease, and a part of\\nthe blood-producing system. It includes the lymph\\nvessels and nodes, and the spleen, bone marrow,\\nand thymus. The narrow lymphatic vessels carry\\nlymphatic fluid from throughout the body. The\\nlymph nodes are small organs that filter the lym-\\nphatic fluid and trap foreign substances, including\\nviruses, bacteria, and cancer cells. The spleen, in the\\nupper left abdomen, removes old cells and debris\\nfrom the blood. The bone marrow, the tissue\\ninside the bones, produces new red and white blood\\ncells.\\nLymphocytes are white blood cells that recognize\\nand destroy disease-causing organisms. Lymphocytes\\nare produced in the lymph nodes, spleen, and bone\\nmarrow. They circulate throughout the body in the\\nblood and lymphatic fluid. Clusters of immune cells\\nalso exist in major organs.\\nHodgkin’s disease is a type of lymphoma in which\\nantibody-producing cells of the lymphatic system\\nbegin to grow abnormally. It usually begins in a\\nlymph node and progresses slowly, in a fairly\\nKEY TERMS\\nAllergen— A substance capable of producing an\\nimmediate type of hypersensitivity,or allergy.\\nWheal— A smooth, slightly elevated area on the\\nbody surface, which is redder or paler than the\\nsurrounding skin.\\n1818 GALE ENCYCLOPEDIA OF MEDICINE\\nHodgkin’s disease'),\n",
       " Document(id='doc_3178', metadata={}, page_content='Rashes\\nDefinition\\nThe popular term for a group of spots or red,\\ninflamed skin that is usually a symptom of an under-\\nlying condition or disorder. Often temporary, a rash is\\nonly rarely a sign of a serious problem.\\nDescription\\nA rash may occur on only one area of the skin, or\\nit could cover almost all of the body. Also, a rash may\\nor may not be itchy. Depending on how it looks, a rash\\nmay be described as:\\n/C15blistering (raised oval or round collections of fluid\\nwithin or beneath the outer layer of skin)\\n/C15macular (flat spots)\\n/C15nodular (small, firm, knotty rounded mass)\\n/C15papular (small solid slightly raised areas)\\n/C15pustular (pus-containing skin blister).\\nCauses and symptoms\\nThere are many theories as to the development of\\nskin rashes, but experts are not completely clear what\\ncauses some of them. Generally a skin rash is an\\nintermittent symptom, fading and reappearing.\\nRashes may accompany a range of disorders and con-\\nditions, such as:\\n/C15Infectious illness. A rash is symptom of many differ-\\nent kinds of childhood infectious illnesses, including\\nchickenpox and scarlet fever. It may be triggered by\\nother infections, such as Rocky Mountain spotted\\nfever or ringworm.\\n/C15Allergic reactions. One of the most common symp-\\ntoms of an allergic reaction is an itchy rash.Contact\\ndermatitis is a rash that appears after the skin is\\nexposed to an allergen, such as metal, rubber, some\\ncosmetics or lotions, or some types of plants (e.g.\\npoison ivy). Drug reactions are another common\\nallergic cause of rash; in this case, a rash is only one\\nof a variety of possible symptoms, includingfever,\\nseizures, nausea and vomiting, diarrhea, heartbeat\\nirregularities, and breathing problems. This rash\\nusually appears soon after the first dose of the course\\nof medicine is taken.\\n/C15Autoimmune disorders . Conditions in which the\\nimmune system turns on the body itself, such as\\nsystemic lupus erythematosusor purpura, often have\\na characteristic rash.\\n/C15nutritional disorders. For example,scurvy, a disease\\ncaused by a lack of Vitamin C, has a rash as one of its\\nsymptoms.\\n/C15cancer. A few types of cancer, such as chronic lym-\\nphocytic leukemia, can be the underlying cause of a\\nrash.\\nRashes in infancy\\nRashes are extremely common in infancy, and are\\nusually not serious at all and can be treated at home.\\nDiaper rash is caused by prolonged skin contact\\nwith bacteria and the baby’s waste products in a damp\\ndiaper. This rash has red, spotty sores and there may\\nbe an ammonia smell. In most cases the rash will\\nrespond within three days to drying efforts. A diaper\\nrash that does not improve in this time may be a yeast\\ninfection requiring prescription medication. A doctor\\nshould be consulted if the rash is solid, bright red,\\ncauses fever, or the skin develops blisters,boils, or pus.\\nInfants also can get a rash on cheeks and chin\\ncaused by contact with food and stomach contents.\\nThis rash will come and go, but usually responds to a\\ngood cleaning after meals. About a third of all infants\\ndevelop ‘‘acne’’ usually after the third week of life in\\nresponse to their mothers’ hormones before birth. This\\nrash will disappear between weeks and a few months.\\nHeat rash is a mass of tiny pink bumps on the back of\\nthe neck and upper back caused by blocked sweat\\nglands. The rash usually appears during hot, humid\\nweather, although a baby with a fever can also develop\\nthe rash.\\nA baby should see a doctor immediately if the\\nrash:\\n/C15appears suddenly and looks purple or blood-colored\\n/C15looks like a burn\\n/C15appears while the infant seems to be sick\\nDiagnosis\\nA physician can make a diagnosis based on the\\nmedical history and the appearance of the rash, where\\nit appears, and any other accompanying symptoms.\\nTreatment\\nTreatment of rashes focuses on resolving the under-\\nlying disorder and providing relief of theitching that\\noften accompanies them. Soothing lotions or oralanti-\\nhistamines can provide some relief, andtopical antibio-\\ntics may be administered if the patient, particularly a\\nchild, has caused a secondary infection by scratching.\\nGALE ENCYCLOPEDIA OF MEDICINE 3149\\nRashes')]"
      ]
     },
     "execution_count": 10,
     "metadata": {},
     "output_type": "execute_result"
    }
   ],
   "source": [
    "retrieved_doc = retriever.invoke(\"what is hives\")\n",
    "retrieved_doc"
   ]
  },
  {
   "cell_type": "code",
   "execution_count": 15,
   "id": "c2009946",
   "metadata": {},
   "outputs": [],
   "source": [
    "from langchain_openai import ChatOpenAI\n",
    "from langchain_google_genai import ChatGoogleGenerativeAI\n",
    "\n",
    "# llm = ChatOpenAI(\n",
    "#         openai_api_base=\"https://openrouter.ai/api/v1\",\n",
    "#         openai_api_key=llm_api,\n",
    "#         model_name='deepseek/deepseek-r1:free',\n",
    "#         temperature=0.6,\n",
    "#         max_completion_tokens= 4000,\n",
    "#         streaming= True\n",
    "#         )\n",
    "\n",
    "\n",
    "\n",
    "llm = ChatGoogleGenerativeAI(\n",
    "    model=\"gemini-2.0-flash\",\n",
    "    temperature=0.6,\n",
    "    max_tokens=4000,\n",
    "    timeout=None,\n",
    "    max_retries=3,\n",
    "    # other params...\n",
    ")"
   ]
  },
  {
   "cell_type": "code",
   "execution_count": 16,
   "id": "8e817e8b",
   "metadata": {},
   "outputs": [],
   "source": [
    "from langchain_core.prompts import ChatPromptTemplate\n",
    "\n",
    "system_prompt = (\n",
    "    \"You are a medical assistance, expert in medical question-answering task.\"\n",
    "    \"You are to answer questions from the retrieval documents.\"\n",
    "    \"if a question is out of context or can't be found from retrieved documents, simply answer with 'I don't know'\"\n",
    "    \"Ensure to keep your answers short and precise\"\n",
    "    \"{context}\"\n",
    ")\n",
    "\n",
    "prompt = ChatPromptTemplate.from_messages(\n",
    "    [\n",
    "        (\"system\", system_prompt),\n",
    "        (\"human\", \"{input}\")\n",
    "    ]\n",
    ")"
   ]
  },
  {
   "cell_type": "code",
   "execution_count": 17,
   "id": "dd2fa195",
   "metadata": {},
   "outputs": [
    {
     "name": "stdout",
     "output_type": "stream",
     "text": [
      "The document states that for some patients whose acne reappears, another course of isotretinoin may be needed, while others may do well with topical drugs or oral antibiotics. However, there is no guarantee of completely stopping acne permanently.\n"
     ]
    }
   ],
   "source": [
    "from langchain.chains import create_retrieval_chain\n",
    "from langchain.chains.combine_documents import create_stuff_documents_chain\n",
    "\n",
    "llm_prompt = create_stuff_documents_chain(llm=llm, prompt=prompt)\n",
    "reatrival_llm = create_retrieval_chain(retriever, llm_prompt)\n",
    "\n",
    "response = reatrival_llm.invoke({\"input\": \"I have a reoccurring acne. Please what can I do to stop it completely?\"})\n",
    "print(response['answer'])"
   ]
  },
  {
   "cell_type": "code",
   "execution_count": null,
   "id": "1f51564e",
   "metadata": {},
   "outputs": [],
   "source": []
  },
  {
   "cell_type": "code",
   "execution_count": null,
   "id": "eea1749a",
   "metadata": {},
   "outputs": [],
   "source": []
  }
 ],
 "metadata": {
  "kernelspec": {
   "display_name": "ragprj",
   "language": "python",
   "name": "python3"
  },
  "language_info": {
   "codemirror_mode": {
    "name": "ipython",
    "version": 3
   },
   "file_extension": ".py",
   "mimetype": "text/x-python",
   "name": "python",
   "nbconvert_exporter": "python",
   "pygments_lexer": "ipython3",
   "version": "3.13.2"
  }
 },
 "nbformat": 4,
 "nbformat_minor": 5
}
